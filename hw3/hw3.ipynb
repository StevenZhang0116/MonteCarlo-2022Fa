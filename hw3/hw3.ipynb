{
 "cells": [
  {
   "cell_type": "code",
   "execution_count": 42,
   "metadata": {},
   "outputs": [],
   "source": [
    "import numpy as np\n",
    "import matplotlib.pyplot as plt\n",
    "import pandas as pd\n",
    "import scipy.stats as sps\n",
    "import time\n",
    "import tqdm\n",
    "import copy"
   ]
  },
  {
   "cell_type": "markdown",
   "metadata": {},
   "source": [
    "### Exercise 28"
   ]
  },
  {
   "cell_type": "markdown",
   "metadata": {},
   "source": [
    "For notation, we have: \n",
    "\\begin{equation*}\n",
    "    \\pi = \\mathcal{N}(0,\\sigma^2) \\ \\ \\ \\pi' = \\mathcal{N}(0,1)\n",
    "\\end{equation*}\n",
    "\n",
    "\\begin{equation*}\n",
    "    \\omega (x) = \\dfrac{\\pi}{\\pi'} = \\dfrac{1}{\\sigma} e^{x^2/2-x^2/2\\sigma^2}\n",
    "\\end{equation*}\n",
    "\n",
    "We would then implement the resampling methods (multinomial, Bernoulli, and systematic) respectively based on the weight $\\omega(x)$. "
   ]
  },
  {
   "cell_type": "markdown",
   "metadata": {},
   "source": [
    "#### Bernoulli \n",
    "\n",
    "Referring to page 56 in lecture note: for each step, we have $n$ samples $\\{ x_k \\}_1^n$ and weight $\\{ \\omega_k \\}_1^n$; thus, we could choose $N_i = \\lfloor n\\omega_k \\rfloor + 1_{u_k < n\\omega_k - \\lfloor n\\omega_k \\rfloor}$ for some independent random variable $u_k$ drawn from $\\mathcal{U}(0,1)$; we could then create $N_i$ samples equal to $x_k$ in this new collection. \n"
   ]
  },
  {
   "cell_type": "code",
   "execution_count": 43,
   "metadata": {},
   "outputs": [],
   "source": [
    "# Bernoulli function register\n",
    "def bernoulli(W):\n",
    "    \"\"\"\n",
    "    W   :   sample weight\n",
    "    Wr  :   resampling new weight\n",
    "    \"\"\"\n",
    "    N = len(W)\n",
    "    Wf = np.floor(W*N) # floor\n",
    "    rr = W*N-Wf-np.random.rand(N) # random variable\n",
    "    rr[rr>=0] = 1\n",
    "    rr[rr<0] = 0\n",
    "    Wr = (Wf+rr)/np.sum(Wf+rr)\n",
    "    return Wr"
   ]
  },
  {
   "cell_type": "markdown",
   "metadata": {},
   "source": [
    "#### Multinomial\n",
    "\n",
    "Using the inversion method, we have: for each step, we have $n$ samples $\\{ x_k \\}_1^n$ and weight $\\{ \\omega_k \\}_1^n$; then we could draw the distribution $Multinomial(N,p)$ with the vector $p$ having entries $p_i=\\omega_i$; then we have the new samples $\\{ y_k \\}_1^n$ with weight $\\frac{1}{n}$. "
   ]
  },
  {
   "cell_type": "code",
   "execution_count": 44,
   "metadata": {},
   "outputs": [],
   "source": [
    "# Multinomial function register\n",
    "def multinomial(W):\n",
    "    \"\"\"\n",
    "    W   :   sample weight\n",
    "    Wr  :   resampling new weight\n",
    "    \"\"\"\n",
    "    N = len(W)\n",
    "    Wr = np.random.multinomial(N,W)/N \n",
    "    return Wr"
   ]
  },
  {
   "cell_type": "markdown",
   "metadata": {},
   "source": [
    "#### Systematic [consult Qianyu Zhu for this part]\n",
    "\n",
    "Similar to before, we have: for each step, we have $n$ samples $\\{ x_k \\}_1^n$ and weight $\\{ \\omega_k \\}_1^n$; then we could generate a single independent random variate $u$ from $\\mathcal{U}(0,1)$, then by page 57 in lecture note, $N_i = \\left | \\left \\{\\sum_{i=1}^{j-1} \\omega_i \\le \\dfrac{m+u}{n} \\le \\sum_{i=1}^j \\omega_i, m \\in \\mathbb{N} \\right \\} \\right | $ where $| A |$ for a discrete set of points $A$ refers to the number of points in $A$; we could then create $N_i$ samples equal to $x_k$ in this new collection. "
   ]
  },
  {
   "cell_type": "code",
   "execution_count": 45,
   "metadata": {},
   "outputs": [],
   "source": [
    "# Systematic function register\n",
    "def systematic(W):\n",
    "    \"\"\"\n",
    "    W   :   sample weight\n",
    "    Wr  :   resampling new weight\n",
    "    \"\"\"\n",
    "    N = len(W)\n",
    "    cW = np.cumsum(W)\n",
    "    uu = (np.random.random()+np.arange(N))/N\n",
    "    Wr = np.zeros(N)\n",
    "    i = 0\n",
    "    j = 0\n",
    "    while i < N:\n",
    "        if uu[i] < cW[j]:\n",
    "            Wr[j] += 1 # count the number of elements inside the interval\n",
    "            i += 1\n",
    "        else:\n",
    "            j += 1\n",
    "    Wr /= N\n",
    "    return Wr    "
   ]
  },
  {
   "cell_type": "markdown",
   "metadata": {},
   "source": [
    "#### Experiment\n",
    "\n",
    "Implement the three pre-designed functions respectively; calculate the variance using $M$ experiments. "
   ]
  },
  {
   "cell_type": "code",
   "execution_count": 46,
   "metadata": {},
   "outputs": [
    {
     "data": {
      "text/html": [
       "<div>\n",
       "<style scoped>\n",
       "    .dataframe tbody tr th:only-of-type {\n",
       "        vertical-align: middle;\n",
       "    }\n",
       "\n",
       "    .dataframe tbody tr th {\n",
       "        vertical-align: top;\n",
       "    }\n",
       "\n",
       "    .dataframe thead th {\n",
       "        text-align: right;\n",
       "    }\n",
       "</style>\n",
       "<table border=\"1\" class=\"dataframe\">\n",
       "  <thead>\n",
       "    <tr style=\"text-align: right;\">\n",
       "      <th></th>\n",
       "      <th>0.25</th>\n",
       "      <th>0.50</th>\n",
       "      <th>0.75</th>\n",
       "      <th>1.00</th>\n",
       "      <th>1.25</th>\n",
       "      <th>1.50</th>\n",
       "      <th>1.75</th>\n",
       "      <th>2.00</th>\n",
       "    </tr>\n",
       "  </thead>\n",
       "  <tbody>\n",
       "    <tr>\n",
       "      <th>1.0</th>\n",
       "      <td>0.0000107889</td>\n",
       "      <td>0.0000317608</td>\n",
       "      <td>0.0000593124</td>\n",
       "      <td>0.0000989999</td>\n",
       "      <td>0.0005671011</td>\n",
       "      <td>0.0161186927</td>\n",
       "      <td>1.3252021134e-01</td>\n",
       "      <td>3.3829783922e-01</td>\n",
       "    </tr>\n",
       "    <tr>\n",
       "      <th>2.0</th>\n",
       "      <td>0.0000012479</td>\n",
       "      <td>0.0000138685</td>\n",
       "      <td>0.0000764045</td>\n",
       "      <td>0.0002056757</td>\n",
       "      <td>0.0040751173</td>\n",
       "      <td>0.3163668654</td>\n",
       "      <td>2.6548668764e+00</td>\n",
       "      <td>6.3376894326e+00</td>\n",
       "    </tr>\n",
       "    <tr>\n",
       "      <th>3.0</th>\n",
       "      <td>0.0000003885</td>\n",
       "      <td>0.0000198122</td>\n",
       "      <td>0.0002674841</td>\n",
       "      <td>0.0016303922</td>\n",
       "      <td>0.1307898744</td>\n",
       "      <td>11.0832885448</td>\n",
       "      <td>9.5289472717e+01</td>\n",
       "      <td>2.3500295508e+02</td>\n",
       "    </tr>\n",
       "    <tr>\n",
       "      <th>4.0</th>\n",
       "      <td>0.0000001936</td>\n",
       "      <td>0.0000425976</td>\n",
       "      <td>0.0011537144</td>\n",
       "      <td>0.0086439441</td>\n",
       "      <td>2.5114783385</td>\n",
       "      <td>277.4427339001</td>\n",
       "      <td>2.3767636501e+03</td>\n",
       "      <td>5.6160421303e+03</td>\n",
       "    </tr>\n",
       "    <tr>\n",
       "      <th>5.0</th>\n",
       "      <td>0.0000000991</td>\n",
       "      <td>0.0000756090</td>\n",
       "      <td>0.0060209125</td>\n",
       "      <td>0.1066407652</td>\n",
       "      <td>75.5951024490</td>\n",
       "      <td>8433.1481928390</td>\n",
       "      <td>7.2643730714e+04</td>\n",
       "      <td>1.7333322520e+05</td>\n",
       "    </tr>\n",
       "    <tr>\n",
       "      <th>6.0</th>\n",
       "      <td>0.0000000734</td>\n",
       "      <td>0.0002683557</td>\n",
       "      <td>0.0403440438</td>\n",
       "      <td>0.9503897212</td>\n",
       "      <td>1817.2894805141</td>\n",
       "      <td>224803.8291309406</td>\n",
       "      <td>1.9277815699e+06</td>\n",
       "      <td>4.4682172924e+06</td>\n",
       "    </tr>\n",
       "  </tbody>\n",
       "</table>\n",
       "</div>"
      ],
      "text/plain": [
       "             0.25          0.50          0.75          1.00             1.25  \\\n",
       "1.0  0.0000107889  0.0000317608  0.0000593124  0.0000989999     0.0005671011   \n",
       "2.0  0.0000012479  0.0000138685  0.0000764045  0.0002056757     0.0040751173   \n",
       "3.0  0.0000003885  0.0000198122  0.0002674841  0.0016303922     0.1307898744   \n",
       "4.0  0.0000001936  0.0000425976  0.0011537144  0.0086439441     2.5114783385   \n",
       "5.0  0.0000000991  0.0000756090  0.0060209125  0.1066407652    75.5951024490   \n",
       "6.0  0.0000000734  0.0002683557  0.0403440438  0.9503897212  1817.2894805141   \n",
       "\n",
       "                  1.50              1.75              2.00  \n",
       "1.0       0.0161186927  1.3252021134e-01  3.3829783922e-01  \n",
       "2.0       0.3163668654  2.6548668764e+00  6.3376894326e+00  \n",
       "3.0      11.0832885448  9.5289472717e+01  2.3500295508e+02  \n",
       "4.0     277.4427339001  2.3767636501e+03  5.6160421303e+03  \n",
       "5.0    8433.1481928390  7.2643730714e+04  1.7333322520e+05  \n",
       "6.0  224803.8291309406  1.9277815699e+06  4.4682172924e+06  "
      ]
     },
     "execution_count": 46,
     "metadata": {},
     "output_type": "execute_result"
    }
   ],
   "source": [
    "# our goal here is to calculate Var(Y^k) where Y is the resampled estimator\n",
    "sigma_lst = [0.25*i for i in range(1,9)]\n",
    "k = 6\n",
    "M = 100\n",
    "res = np.zeros((M,k,len(sigma_lst)))\n",
    "\n",
    "for i in range(M):\n",
    "    NN = 10**4\n",
    "    X = np.random.normal(0,1,NN)\n",
    "    for j in range(len(sigma_lst)):\n",
    "        sigma = sigma_lst[j]\n",
    "        # weight\n",
    "        W = (1/sigma)*np.exp(X**2*(1/2-1/(2*sigma**2)))\n",
    "        # normalize\n",
    "        W /= np.sum(W)\n",
    "        # === Change to different resampling methods === \n",
    "        Wr = systematic(W)\n",
    "        for l in range(k):\n",
    "            res[i,l,j] = np.sum((X**(l+1))*Wr)\n",
    "\n",
    "vtable = np.var(res,axis=0)\n",
    "\n",
    "pd.set_option(\"display.precision\", 10)\n",
    "\n",
    "# add labels\n",
    "col_labels = ['0.25','0.50','0.75','1.00','1.25','1.50','1.75','2.00']\n",
    "row_labels = ['1.0','2.0','3.0','4.0','5.0','6.0']\n",
    "df = pd.DataFrame(vtable, columns=col_labels, index=row_labels)\n",
    "\n",
    "df"
   ]
  },
  {
   "cell_type": "markdown",
   "metadata": {},
   "source": [
    "### Exercise 29"
   ]
  },
  {
   "cell_type": "markdown",
   "metadata": {},
   "source": [
    "Reference: https://github.com/gabsens/SelfAvoidingWalk, https://en.wikipedia.org/wiki/Self-avoiding_walk\n",
    "\n",
    "Also consult with Qianyu Zhu"
   ]
  },
  {
   "cell_type": "markdown",
   "metadata": {},
   "source": [
    "#### Function registeration"
   ]
  },
  {
   "cell_type": "code",
   "execution_count": 47,
   "metadata": {},
   "outputs": [],
   "source": [
    "def SAW(D,N,L,flag=0):\n",
    "    \"\"\"\n",
    "    D   :   length of walk (D step total)\n",
    "    N   :   number of samples\n",
    "    L   :   length of lattice\n",
    "    flag:   whether or not resampling\n",
    "    Return: saw with length D and corresponding weight ([s_i],[w_i])\n",
    "    \"\"\"\n",
    "\n",
    "    # auxiliary functions registeration\n",
    "    def systematic_2(W):\n",
    "        N = len(W)\n",
    "        cW = np.cumsum(W)\n",
    "        uu = (np.random.random()+np.arange(N))/N\n",
    "        indd = np.zeros(N,'i')\n",
    "        i = 0\n",
    "        j = 0\n",
    "        while i < N:\n",
    "            if uu[i] < cW[j]:\n",
    "                indd[i] = j\n",
    "                i += 1\n",
    "            else:\n",
    "                j += 1\n",
    "        return indd   \n",
    "\n",
    "    def repeat(newpp,hist):\n",
    "        '''\n",
    "        pp  :   new point proposal\n",
    "        hist:   dynamically updated history of SAW\n",
    "        Return: True/False whether the SAW with the newly added point is eligible\n",
    "        '''\n",
    "        for pp in hist:\n",
    "            if np.sum(np.abs(pp-newpp)) <= 0.5:\n",
    "                return True\n",
    "        return False\n",
    "\n",
    "    # =========================================================\n",
    "    # =========================================================\n",
    "    # start the function\n",
    "    allwalkpath = np.zeros((D,N,2))\n",
    "    allwalkpath[0,:,:] = np.random.randint(0,L,size=(N,2))\n",
    "\n",
    "    # To decrease the rate of running out of the lattice, try with different initialization \n",
    "    # allwalkpath[0,:,:] = np.full((N,2),L/2)\n",
    "    \n",
    "    # generate uniform weight\n",
    "    ww = np.ones(N)/N\n",
    "    poss_mov = np.array([(1,0), (0,1), (-1,0), (0,-1)])\n",
    "\n",
    "    for d in range(1,D):\n",
    "        for n in range(N):\n",
    "            cnt = 0\n",
    "            curr = allwalkpath[d-1,n,:]\n",
    "            ppp_lst = []\n",
    "            for move in poss_mov:\n",
    "                # in case out of boundary\n",
    "                pp = (curr+move)%L \n",
    "                if not repeat(pp,allwalkpath[:d,n,:]):\n",
    "                    cnt += 1\n",
    "                    ppp_lst.append(pp)\n",
    "            if cnt >= 1:\n",
    "                allwalkpath[d,n,:] = ppp_lst[np.random.randint(len(ppp_lst))]\n",
    "            ww[n] *= cnt\n",
    "        assert np.sum(ww) > 0\n",
    "        ww /= np.sum(ww)\n",
    "\n",
    "        if flag != 0:\n",
    "            res = systematic_2(ww)\n",
    "            ccppy = copy.deepcopy(allwalkpath)\n",
    "            for i in range(len(res)):\n",
    "                allwalkpath[:,i,:] = ccppy[:,res[i],:]\n",
    "            ww = np.ones(N)/N\n",
    "    return [allwalkpath,ww]\n",
    "\n",
    "def generate_walk_plot(X,Y,L):\n",
    "    res = plt.figure(figsize=(6,6))\n",
    "    plt.plot(X,Y,'-o')\n",
    "    plt.plot(X[0],Y[0],'ro',label='start')\n",
    "    plt.plot(X[-1],Y[-1],'go',label='end')\n",
    "    plt.legend()\n",
    "    plt.xlim([0,L])\n",
    "    plt.ylim([0,L])\n",
    "    plt.title(f'SAW of length={len(X)},lattice size={L}')\n",
    "    plt.show()\n",
    "    return res\n"
   ]
  },
  {
   "cell_type": "markdown",
   "metadata": {},
   "source": [
    "#### Experiments (try with different D value)"
   ]
  },
  {
   "cell_type": "code",
   "execution_count": 48,
   "metadata": {},
   "outputs": [
    {
     "data": {
      "image/png": "[encoded data removed]",
      "text/plain": [
       "<Figure size 600x600 with 1 Axes>"
      ]
     },
     "metadata": {},
     "output_type": "display_data"
    }
   ],
   "source": [
    "N = 4 # num of sample\n",
    "D = 100 # length of walk\n",
    "L = 30 # size of lattice\n",
    "[allwalkpath,ww] = SAW(D,N,L)\n",
    "\n",
    "X = allwalkpath[:,2,0]\n",
    "Y = allwalkpath[:,2,1]\n",
    "res = generate_walk_plot(X,Y,L)\n"
   ]
  },
  {
   "cell_type": "markdown",
   "metadata": {},
   "source": [
    "#### the expected number of times a lattice site is visited (this should be the same for every site)"
   ]
  },
  {
   "cell_type": "code",
   "execution_count": 50,
   "metadata": {},
   "outputs": [
    {
     "data": {
      "image/png": "[encoded data removed]",
      "text/plain": [
       "<Figure size 640x480 with 2 Axes>"
      ]
     },
     "metadata": {},
     "output_type": "display_data"
    },
    {
     "data": {
      "image/png": "[encoded data removed]",
      "text/plain": [
       "<Figure size 640x480 with 2 Axes>"
      ]
     },
     "metadata": {},
     "output_type": "display_data"
    }
   ],
   "source": [
    "N = 10000 # num of sample\n",
    "D = 100\n",
    "L = 20\n",
    "\n",
    "# test case\n",
    "[allwalkpath,ww] = SAW(D,N,L)\n",
    "allwalkpath = allwalkpath.astype(int)\n",
    "density = np.zeros((L,L))\n",
    "for n in range(N):\n",
    "    path = allwalkpath[:,n,:]\n",
    "    for pos in path:\n",
    "        density[pos[0],pos[1]] += ww[n]\n",
    "density /= sum(density) # normalizing it\n",
    "\n",
    "fig = plt.figure()\n",
    "ax = fig.add_subplot(111)\n",
    "cax = ax.matshow(density)\n",
    "plt.title('Test')\n",
    "fig.colorbar(cax)\n",
    "plt.show()\n",
    "\n",
    "\n",
    "# target function\n",
    "[allwalkpath,ww] = SAW(D,N,L,flag=1)\n",
    "allwalkpath = allwalkpath.astype(int)\n",
    "density = np.zeros((L,L))\n",
    "for n in range(N):\n",
    "    path = allwalkpath[:,n,:]\n",
    "    for pos in path:\n",
    "        density[pos[0],pos[1]] += ww[n]\n",
    "density /= sum(density) # normalizing it\n",
    "\n",
    "fig = plt.figure()\n",
    "ax = fig.add_subplot(111)\n",
    "cax = ax.matshow(density)\n",
    "plt.title('Target Function')\n",
    "fig.colorbar(cax)\n",
    "plt.show()"
   ]
  },
  {
   "cell_type": "markdown",
   "metadata": {},
   "source": [
    "#### estimation of normalizing constant $\\mathcal{Z}_d$"
   ]
  },
  {
   "cell_type": "code",
   "execution_count": 51,
   "metadata": {},
   "outputs": [],
   "source": [
    "def SAW_revised(D,N,L,flag=0):\n",
    "    \"\"\"\n",
    "    D   :   length of walk (D step total)\n",
    "    N   :   number of samples\n",
    "    L   :   length of lattice\n",
    "    flag:   whether or not resampling\n",
    "    Return: saw with length D and corresponding weight ([s_i],[w_i])\n",
    "    \"\"\"\n",
    "    # auxiliary functions registeration\n",
    "    def systematic_2(W):\n",
    "        N = len(W)\n",
    "        cW = np.cumsum(W)\n",
    "        uu = (np.random.random()+np.arange(N))/N\n",
    "        indd = np.zeros(N,'i')\n",
    "        i = 0\n",
    "        j = 0\n",
    "        while i < N:\n",
    "            if uu[i] < cW[j]:\n",
    "                indd[i] = j\n",
    "                i += 1\n",
    "            else:\n",
    "                j += 1\n",
    "        return indd   \n",
    "\n",
    "    def repeat(newpp,hist):\n",
    "        '''\n",
    "        pp  :   new point proposal\n",
    "        hist:   dynamically updated history of SAW\n",
    "        Return: True/False whether the SAW with the newly added point is eligible\n",
    "        '''\n",
    "        for pp in hist:\n",
    "            if np.sum(np.abs(pp-newpp)) <= 0.5:\n",
    "                return True\n",
    "        return False\n",
    "\n",
    "    # =========================================================\n",
    "    # =========================================================\n",
    "    # start the function\n",
    "    allwalkpath = np.zeros((D,N,2))\n",
    "    weight = np.zeros(N)\n",
    "    Z_lst = np.zeros(D)\n",
    "    Z_lst[0] = np.square(L)\n",
    "\n",
    "    allwalkpath[0,:,:] = np.random.randint(0,L,size=(N,2))\n",
    "    \n",
    "    # generate uniform weight\n",
    "    ww = np.ones(N)/N\n",
    "    poss_mov = np.array([(1,0), (0,1), (-1,0), (0,-1)])\n",
    "\n",
    "    for d in range(1,D):\n",
    "        # count move for each sample\n",
    "        M = 0\n",
    "        for n in range(N):\n",
    "            cnt = 0\n",
    "            curr = allwalkpath[d-1,n,:]\n",
    "            ppp_lst = []\n",
    "            for move in poss_mov:\n",
    "                # in case out of boundary\n",
    "                pp = (curr+move)%L \n",
    "                if not repeat(pp,allwalkpath[:d,n,:]):\n",
    "                    cnt += 1\n",
    "                    M += 1\n",
    "                    ppp_lst.append(pp)\n",
    "            if cnt >= 1:\n",
    "                allwalkpath[d,n,:] = ppp_lst[np.random.randint(len(ppp_lst))]\n",
    "            ww[n] *= cnt\n",
    "        assert np.sum(ww) > 0\n",
    "        ww /= np.sum(ww)\n",
    "\n",
    "        if flag != 0:\n",
    "            res = systematic_2(ww)\n",
    "            ccppy = copy.deepcopy(allwalkpath)\n",
    "            for i in range(len(res)):\n",
    "                allwalkpath[:,i,:] = ccppy[:,res[i],:]\n",
    "            ww = np.ones(N)/N\n",
    "\n",
    "        Z_lst[d] = Z_lst[d-1]*M/N\n",
    "        \n",
    "    return Z_lst"
   ]
  },
  {
   "cell_type": "markdown",
   "metadata": {},
   "source": [
    "#### Experiment"
   ]
  },
  {
   "cell_type": "code",
   "execution_count": 53,
   "metadata": {},
   "outputs": [
    {
     "data": {
      "image/png": "[encoded data removed]",
      "text/plain": [
       "<Figure size 600x600 with 1 Axes>"
      ]
     },
     "metadata": {},
     "output_type": "display_data"
    }
   ],
   "source": [
    "D = 20\n",
    "N = 10000\n",
    "L = 20\n",
    "\n",
    "Z_lst = SAW_revised(D, N, L, flag = 1)\n",
    "D_lst = [i for i in range(1,D+1)]\n",
    "\n",
    "plt.figure(figsize=(6,6))\n",
    "plt.plot(D_lst,Z_lst,'o-')\n",
    "plt.xscale('log')\n",
    "plt.yscale('log')\n",
    "plt.xlabel('D')\n",
    "plt.ylabel('Z')\n",
    "plt.show()"
   ]
  }
 ],
 "metadata": {
  "kernelspec": {
   "display_name": "Python 3.9.6 64-bit",
   "language": "python",
   "name": "python3"
  },
  "language_info": {
   "codemirror_mode": {
    "name": "ipython",
    "version": 3
   },
   "file_extension": ".py",
   "mimetype": "text/x-python",
   "name": "python",
   "nbconvert_exporter": "python",
   "pygments_lexer": "ipython3",
   "version": "3.9.6"
  },
  "orig_nbformat": 4,
  "vscode": {
   "interpreter": {
    "hash": "31f2aee4e71d21fbe5cf8b01ff0e069b9275f58929596ceb00d14d90e3e16cd6"
   }
  }
 },
 "nbformat": 4,
 "nbformat_minor": 2
}
